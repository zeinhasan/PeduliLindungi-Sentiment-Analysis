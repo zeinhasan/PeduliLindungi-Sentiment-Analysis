{
 "cells": [
  {
   "cell_type": "code",
   "execution_count": 1,
   "id": "91f30d60-7ded-47e7-88d2-c089a12ac1b5",
   "metadata": {},
   "outputs": [],
   "source": [
    "# import library\n",
    "import pandas as pd\n",
    "import numpy as np\n",
    "import re\n",
    "import missingno as msno\n",
    "import matplotlib.pyplot as plt\n",
    "from collections import Counter\n",
    "from wordcloud import WordCloud\n",
    "from nltk.corpus import stopwords\n",
    "from sklearn import model_selection, svm\n",
    "from sklearn.naive_bayes import MultinomialNB\n",
    "from sklearn.ensemble import RandomForestClassifier\n",
    "from nltk.corpus import stopwords\n",
    "from sklearn.model_selection import train_test_split\n",
    "from sklearn.feature_extraction.text import CountVectorizer,TfidfVectorizer\n",
    "from sklearn.metrics import classification_report, confusion_matrix, accuracy_score\n",
    "from tensorflow.keras.layers import Input,Dense,concatenate,Dropout\n",
    "from tensorflow.keras.models import Model,load_model\n",
    "from tensorflow.keras.optimizers import SGD,Adam\n",
    "from tensorflow.keras.utils import plot_model\n",
    "from tensorflow.keras.metrics import MeanAbsoluteError,MeanSquaredError,Accuracy,Precision,Recall"
   ]
  },
  {
   "cell_type": "code",
   "execution_count": 2,
   "id": "8397818d-eda2-4fb4-845b-663008cfe51a",
   "metadata": {},
   "outputs": [],
   "source": [
    "# Path File\n",
    "path=\"C:\\\\Users\\\\Hasan Zein\\\\ESSAI OLS\\\\preprocessed_data.xlsx\""
   ]
  },
  {
   "cell_type": "code",
   "execution_count": 3,
   "id": "84d3b11c-9a1e-4909-98c1-68408d624e0e",
   "metadata": {},
   "outputs": [],
   "source": [
    "# Open file\n",
    "data = pd.read_excel(path)"
   ]
  },
  {
   "cell_type": "code",
   "execution_count": 4,
   "id": "ba9c92c7-8973-483f-a3b4-8c197828ab16",
   "metadata": {},
   "outputs": [
    {
     "data": {
      "text/html": [
       "<div>\n",
       "<style scoped>\n",
       "    .dataframe tbody tr th:only-of-type {\n",
       "        vertical-align: middle;\n",
       "    }\n",
       "\n",
       "    .dataframe tbody tr th {\n",
       "        vertical-align: top;\n",
       "    }\n",
       "\n",
       "    .dataframe thead th {\n",
       "        text-align: right;\n",
       "    }\n",
       "</style>\n",
       "<table border=\"1\" class=\"dataframe\">\n",
       "  <thead>\n",
       "    <tr style=\"text-align: right;\">\n",
       "      <th></th>\n",
       "      <th>userName</th>\n",
       "      <th>score</th>\n",
       "      <th>at</th>\n",
       "      <th>content</th>\n",
       "      <th>Label</th>\n",
       "      <th>hasil</th>\n",
       "      <th>tokenize_hasil</th>\n",
       "      <th>STOP_REMOVAL</th>\n",
       "      <th>clean</th>\n",
       "    </tr>\n",
       "  </thead>\n",
       "  <tbody>\n",
       "    <tr>\n",
       "      <th>0</th>\n",
       "      <td>Achmad Faisal</td>\n",
       "      <td>1</td>\n",
       "      <td>2022-08-14 12:09:13</td>\n",
       "      <td>Sudah vaksin tapi sertifikat belom keluar suda...</td>\n",
       "      <td>0</td>\n",
       "      <td>sudah vaksin tapi sertifikat belom keluar suda...</td>\n",
       "      <td>['sudah', 'vaksin', 'tapi', 'sertifikat', 'bel...</td>\n",
       "      <td>['vaksin', 'sertifikat', 'belom', 'komplen', '...</td>\n",
       "      <td>vaksin sertifikat bom komplen mana gak tanggap...</td>\n",
       "    </tr>\n",
       "    <tr>\n",
       "      <th>1</th>\n",
       "      <td>Stineke Mare</td>\n",
       "      <td>2</td>\n",
       "      <td>2022-08-14 11:26:51</td>\n",
       "      <td>Min kok ngak bisa ke buka sertifika nya</td>\n",
       "      <td>0</td>\n",
       "      <td>min kok ngak bisa ke buka sertifika nya</td>\n",
       "      <td>['min', 'kok', 'ngak', 'bisa', 'ke', 'buka', '...</td>\n",
       "      <td>['min', 'ngak', 'buka', 'sertifika', 'nya']</td>\n",
       "      <td>min ngak buka sertifika nya</td>\n",
       "    </tr>\n",
       "    <tr>\n",
       "      <th>2</th>\n",
       "      <td>AHMAD YANI</td>\n",
       "      <td>2</td>\n",
       "      <td>2022-08-14 10:35:37</td>\n",
       "      <td>Terlalu rumit sungguh kecewa Udah di masukin d...</td>\n",
       "      <td>0</td>\n",
       "      <td>terlalu rumit sungguh kecewa udah di masukin d...</td>\n",
       "      <td>['terlalu', 'rumit', 'sungguh', 'kecewa', 'uda...</td>\n",
       "      <td>['rumit', 'sungguh', 'kecewa', 'udah', 'masuki...</td>\n",
       "      <td>rumit sungguh kecewa udah masukin data lengkap...</td>\n",
       "    </tr>\n",
       "    <tr>\n",
       "      <th>3</th>\n",
       "      <td>Hendrik Timisela</td>\n",
       "      <td>5</td>\n",
       "      <td>2022-08-14 10:34:40</td>\n",
       "      <td>Aplikasi ini sangat bermanfaat.....</td>\n",
       "      <td>1</td>\n",
       "      <td>aplikasi ini sangat bermanfaat</td>\n",
       "      <td>['aplikasi', 'ini', 'sangat', 'bermanfaat']</td>\n",
       "      <td>['aplikasi', 'bermanfaat']</td>\n",
       "      <td>aplikasi manfaat</td>\n",
       "    </tr>\n",
       "    <tr>\n",
       "      <th>4</th>\n",
       "      <td>Heni Susanti</td>\n",
       "      <td>5</td>\n",
       "      <td>2022-08-14 10:21:21</td>\n",
       "      <td>Ok bgt</td>\n",
       "      <td>1</td>\n",
       "      <td>ok bgt</td>\n",
       "      <td>['ok', 'bgt']</td>\n",
       "      <td>['ok', 'bgt']</td>\n",
       "      <td>ok bgt</td>\n",
       "    </tr>\n",
       "    <tr>\n",
       "      <th>...</th>\n",
       "      <td>...</td>\n",
       "      <td>...</td>\n",
       "      <td>...</td>\n",
       "      <td>...</td>\n",
       "      <td>...</td>\n",
       "      <td>...</td>\n",
       "      <td>...</td>\n",
       "      <td>...</td>\n",
       "      <td>...</td>\n",
       "    </tr>\n",
       "    <tr>\n",
       "      <th>2270</th>\n",
       "      <td>Sarah Oasis</td>\n",
       "      <td>1</td>\n",
       "      <td>2022-07-26 14:09:16</td>\n",
       "      <td>susah dan sangat sangat sangat merepotkan. mau...</td>\n",
       "      <td>0</td>\n",
       "      <td>susah dan sangat sangat sangat merepotkan mau ...</td>\n",
       "      <td>['susah', 'dan', 'sangat', 'sangat', 'sangat',...</td>\n",
       "      <td>['susah', 'merepotkan', 'buka', 'sertifikat', ...</td>\n",
       "      <td>susah repot buka sertifikat aja bolak ga</td>\n",
       "    </tr>\n",
       "    <tr>\n",
       "      <th>2271</th>\n",
       "      <td>Edy sudrajat</td>\n",
       "      <td>5</td>\n",
       "      <td>2022-07-26 14:02:47</td>\n",
       "      <td>Jos</td>\n",
       "      <td>1</td>\n",
       "      <td>jos</td>\n",
       "      <td>['jos']</td>\n",
       "      <td>['jos']</td>\n",
       "      <td>jos</td>\n",
       "    </tr>\n",
       "    <tr>\n",
       "      <th>2272</th>\n",
       "      <td>diah agus tiyani</td>\n",
       "      <td>1</td>\n",
       "      <td>2022-07-26 14:00:07</td>\n",
       "      <td>Sudah vaksin ke 3 tp di app tidak mincul serti...</td>\n",
       "      <td>0</td>\n",
       "      <td>sudah vaksin ke  tp di app tidak mincul sertiv...</td>\n",
       "      <td>['sudah', 'vaksin', 'ke', 'tp', 'di', 'app', '...</td>\n",
       "      <td>['vaksin', 'tp', 'app', 'mincul', 'sertivikatn...</td>\n",
       "      <td>vaksin tp app mincul sertivikatnya ga input da...</td>\n",
       "    </tr>\n",
       "    <tr>\n",
       "      <th>2273</th>\n",
       "      <td>Oscar Imanuel</td>\n",
       "      <td>5</td>\n",
       "      <td>2022-07-26 13:57:11</td>\n",
       "      <td>Apknya bagus bangettt</td>\n",
       "      <td>1</td>\n",
       "      <td>apknya bagus bangettt</td>\n",
       "      <td>['apknya', 'bagus', 'bangettt']</td>\n",
       "      <td>['apknya', 'bagus', 'bangettt']</td>\n",
       "      <td>apknya bagus bangettt</td>\n",
       "    </tr>\n",
       "    <tr>\n",
       "      <th>2274</th>\n",
       "      <td>Danewi Bae</td>\n",
       "      <td>5</td>\n",
       "      <td>2022-07-26 13:55:39</td>\n",
       "      <td>Cepat Aplikasinya</td>\n",
       "      <td>1</td>\n",
       "      <td>cepat aplikasinya</td>\n",
       "      <td>['cepat', 'aplikasinya']</td>\n",
       "      <td>['cepat', 'aplikasinya']</td>\n",
       "      <td>cepat aplikasi</td>\n",
       "    </tr>\n",
       "  </tbody>\n",
       "</table>\n",
       "<p>2275 rows × 9 columns</p>\n",
       "</div>"
      ],
      "text/plain": [
       "              userName  score                  at  \\\n",
       "0        Achmad Faisal      1 2022-08-14 12:09:13   \n",
       "1         Stineke Mare      2 2022-08-14 11:26:51   \n",
       "2           AHMAD YANI      2 2022-08-14 10:35:37   \n",
       "3     Hendrik Timisela      5 2022-08-14 10:34:40   \n",
       "4         Heni Susanti      5 2022-08-14 10:21:21   \n",
       "...                ...    ...                 ...   \n",
       "2270       Sarah Oasis      1 2022-07-26 14:09:16   \n",
       "2271      Edy sudrajat      5 2022-07-26 14:02:47   \n",
       "2272  diah agus tiyani      1 2022-07-26 14:00:07   \n",
       "2273     Oscar Imanuel      5 2022-07-26 13:57:11   \n",
       "2274        Danewi Bae      5 2022-07-26 13:55:39   \n",
       "\n",
       "                                                content  Label  \\\n",
       "0     Sudah vaksin tapi sertifikat belom keluar suda...      0   \n",
       "1               Min kok ngak bisa ke buka sertifika nya      0   \n",
       "2     Terlalu rumit sungguh kecewa Udah di masukin d...      0   \n",
       "3                   Aplikasi ini sangat bermanfaat.....      1   \n",
       "4                                                Ok bgt      1   \n",
       "...                                                 ...    ...   \n",
       "2270  susah dan sangat sangat sangat merepotkan. mau...      0   \n",
       "2271                                                Jos      1   \n",
       "2272  Sudah vaksin ke 3 tp di app tidak mincul serti...      0   \n",
       "2273                              Apknya bagus bangettt      1   \n",
       "2274                                  Cepat Aplikasinya      1   \n",
       "\n",
       "                                                  hasil  \\\n",
       "0     sudah vaksin tapi sertifikat belom keluar suda...   \n",
       "1               min kok ngak bisa ke buka sertifika nya   \n",
       "2     terlalu rumit sungguh kecewa udah di masukin d...   \n",
       "3                        aplikasi ini sangat bermanfaat   \n",
       "4                                                ok bgt   \n",
       "...                                                 ...   \n",
       "2270  susah dan sangat sangat sangat merepotkan mau ...   \n",
       "2271                                                jos   \n",
       "2272  sudah vaksin ke  tp di app tidak mincul sertiv...   \n",
       "2273                              apknya bagus bangettt   \n",
       "2274                                  cepat aplikasinya   \n",
       "\n",
       "                                         tokenize_hasil  \\\n",
       "0     ['sudah', 'vaksin', 'tapi', 'sertifikat', 'bel...   \n",
       "1     ['min', 'kok', 'ngak', 'bisa', 'ke', 'buka', '...   \n",
       "2     ['terlalu', 'rumit', 'sungguh', 'kecewa', 'uda...   \n",
       "3           ['aplikasi', 'ini', 'sangat', 'bermanfaat']   \n",
       "4                                         ['ok', 'bgt']   \n",
       "...                                                 ...   \n",
       "2270  ['susah', 'dan', 'sangat', 'sangat', 'sangat',...   \n",
       "2271                                            ['jos']   \n",
       "2272  ['sudah', 'vaksin', 'ke', 'tp', 'di', 'app', '...   \n",
       "2273                    ['apknya', 'bagus', 'bangettt']   \n",
       "2274                           ['cepat', 'aplikasinya']   \n",
       "\n",
       "                                           STOP_REMOVAL  \\\n",
       "0     ['vaksin', 'sertifikat', 'belom', 'komplen', '...   \n",
       "1           ['min', 'ngak', 'buka', 'sertifika', 'nya']   \n",
       "2     ['rumit', 'sungguh', 'kecewa', 'udah', 'masuki...   \n",
       "3                            ['aplikasi', 'bermanfaat']   \n",
       "4                                         ['ok', 'bgt']   \n",
       "...                                                 ...   \n",
       "2270  ['susah', 'merepotkan', 'buka', 'sertifikat', ...   \n",
       "2271                                            ['jos']   \n",
       "2272  ['vaksin', 'tp', 'app', 'mincul', 'sertivikatn...   \n",
       "2273                    ['apknya', 'bagus', 'bangettt']   \n",
       "2274                           ['cepat', 'aplikasinya']   \n",
       "\n",
       "                                                  clean  \n",
       "0     vaksin sertifikat bom komplen mana gak tanggap...  \n",
       "1                           min ngak buka sertifika nya  \n",
       "2     rumit sungguh kecewa udah masukin data lengkap...  \n",
       "3                                      aplikasi manfaat  \n",
       "4                                                ok bgt  \n",
       "...                                                 ...  \n",
       "2270           susah repot buka sertifikat aja bolak ga  \n",
       "2271                                                jos  \n",
       "2272  vaksin tp app mincul sertivikatnya ga input da...  \n",
       "2273                              apknya bagus bangettt  \n",
       "2274                                     cepat aplikasi  \n",
       "\n",
       "[2275 rows x 9 columns]"
      ]
     },
     "execution_count": 4,
     "metadata": {},
     "output_type": "execute_result"
    }
   ],
   "source": [
    "# Check file\n",
    "data"
   ]
  },
  {
   "cell_type": "code",
   "execution_count": 5,
   "id": "74362a40-01f2-462e-b9f1-58627adbe05e",
   "metadata": {},
   "outputs": [
    {
     "name": "stdout",
     "output_type": "stream",
     "text": [
      "<class 'pandas.core.frame.DataFrame'>\n",
      "RangeIndex: 2275 entries, 0 to 2274\n",
      "Data columns (total 9 columns):\n",
      " #   Column          Non-Null Count  Dtype         \n",
      "---  ------          --------------  -----         \n",
      " 0   userName        2275 non-null   object        \n",
      " 1   score           2275 non-null   int64         \n",
      " 2   at              2275 non-null   datetime64[ns]\n",
      " 3   content         2275 non-null   object        \n",
      " 4   Label           2275 non-null   int64         \n",
      " 5   hasil           2274 non-null   object        \n",
      " 6   tokenize_hasil  2275 non-null   object        \n",
      " 7   STOP_REMOVAL    2275 non-null   object        \n",
      " 8   clean           2198 non-null   object        \n",
      "dtypes: datetime64[ns](1), int64(2), object(6)\n",
      "memory usage: 160.1+ KB\n"
     ]
    }
   ],
   "source": [
    "# Check data information\n",
    "data.info()"
   ]
  },
  {
   "cell_type": "markdown",
   "id": "e4540bcf-0ae7-4147-ace3-bd0368ba1b23",
   "metadata": {
    "tags": []
   },
   "source": [
    "# EDA"
   ]
  },
  {
   "cell_type": "markdown",
   "id": "f100ad74-a06c-4493-907e-03f59a3451ed",
   "metadata": {
    "tags": []
   },
   "source": [
    "## Barplot label"
   ]
  },
  {
   "cell_type": "code",
   "execution_count": 6,
   "id": "cb30438b-5fbf-4361-bf22-e06defb50935",
   "metadata": {},
   "outputs": [
    {
     "data": {
      "text/plain": [
       "<AxesSubplot:title={'center':'Barplot Label'}>"
      ]
     },
     "execution_count": 6,
     "metadata": {},
     "output_type": "execute_result"
    },
    {
     "data": {
      "image/png": "[encoded data removed]",
      "text/plain": [
       "<Figure size 432x288 with 1 Axes>"
      ]
     },
     "metadata": {
      "needs_background": "light"
     },
     "output_type": "display_data"
    }
   ],
   "source": [
    "# Plot data label status\n",
    "data[\"Label\"].value_counts().plot(kind='bar',title=\"Barplot Label\")"
   ]
  },
  {
   "cell_type": "code",
   "execution_count": 7,
   "id": "549ac904-c353-47c4-b3f7-14edf26b3b3e",
   "metadata": {},
   "outputs": [
    {
     "data": {
      "text/plain": [
       "1    1321\n",
       "0     954\n",
       "Name: Label, dtype: int64"
      ]
     },
     "execution_count": 7,
     "metadata": {},
     "output_type": "execute_result"
    }
   ],
   "source": [
    "data[\"Label\"].value_counts()"
   ]
  },
  {
   "cell_type": "markdown",
   "id": "20c53e51-f22a-4660-afaa-d49c00e6bfb2",
   "metadata": {
    "tags": []
   },
   "source": [
    "## Most frequent Word"
   ]
  },
  {
   "cell_type": "code",
   "execution_count": 8,
   "id": "72aaa7c1-60ac-4d5c-8fe1-8f0dd77314f4",
   "metadata": {},
   "outputs": [
    {
     "name": "stdout",
     "output_type": "stream",
     "text": [
      "         Word  Frequency\n",
      "0      vaksin        453\n",
      "1    aplikasi        354\n",
      "2       bagus        278\n",
      "3  sertifikat        267\n",
      "4          ok        180\n"
     ]
    }
   ],
   "source": [
    "# Find most frequent Word\n",
    "dt=data[\"clean\"].dropna()\n",
    "p = Counter(\" \".join(dt).split()).most_common(5)\n",
    "rslt = pd.DataFrame(p, columns=['Word', 'Frequency'])\n",
    "print(rslt)"
   ]
  },
  {
   "cell_type": "code",
   "execution_count": 9,
   "id": "b09bbaef-9788-4ae1-8d12-a0cec5f1cd79",
   "metadata": {},
   "outputs": [
    {
     "data": {
      "image/png": "[encoded data removed]",
      "text/plain": [
       "<Figure size 432x288 with 1 Axes>"
      ]
     },
     "metadata": {
      "needs_background": "light"
     },
     "output_type": "display_data"
    }
   ],
   "source": [
    "# Make most frequent Word barplot\n",
    "col_map = plt.get_cmap('tab20')\n",
    "plt.bar(rslt.Word, rslt.Frequency, width=0.5, color=col_map.colors, \n",
    "        edgecolor='black', linewidth=2)\n",
    "\n",
    "plt.title('Most Frequent Word', fontsize=15)\n",
    "plt.xlabel('Word', fontsize=15)\n",
    "plt.ylabel('Frequency', fontsize=15)\n",
    "plt.show()"
   ]
  },
  {
   "cell_type": "markdown",
   "id": "f9e21560-d436-4fed-95be-d8095fe0d98d",
   "metadata": {
    "tags": []
   },
   "source": [
    "# Preprocessing"
   ]
  },
  {
   "cell_type": "markdown",
   "id": "99dd6f45-60d3-4c00-8ca9-2e5e7f51b321",
   "metadata": {
    "tags": []
   },
   "source": [
    "## Change Format Data"
   ]
  },
  {
   "cell_type": "code",
   "execution_count": 10,
   "id": "ddf035aa-2785-4b56-aa27-33e23a927787",
   "metadata": {},
   "outputs": [],
   "source": [
    "# Change Format Data\n",
    "data=data.astype({\"clean\": \"string\"})\n",
    "data=data.astype({\"Label\": \"category\"})"
   ]
  },
  {
   "cell_type": "markdown",
   "id": "b5f87b36-b6a2-46ad-843c-7da0fb9a0428",
   "metadata": {},
   "source": [
    "## TF-IDF"
   ]
  },
  {
   "cell_type": "code",
   "execution_count": 11,
   "id": "ca49cd1c-42f4-4bd5-81de-acdd6245f626",
   "metadata": {},
   "outputs": [
    {
     "data": {
      "text/plain": [
       "<2275x2134 sparse matrix of type '<class 'numpy.float64'>'\n",
       "\twith 10385 stored elements in Compressed Sparse Row format>"
      ]
     },
     "execution_count": 11,
     "metadata": {},
     "output_type": "execute_result"
    }
   ],
   "source": [
    "# TF-IDF\n",
    "tf=TfidfVectorizer()\n",
    "text_tf=tf.fit_transform(data[\"clean\"].astype(\"U\"))\n",
    "text_tf"
   ]
  },
  {
   "cell_type": "markdown",
   "id": "5680b0d0-023b-45fc-9fd5-c571043a540e",
   "metadata": {},
   "source": [
    "## Splitting data"
   ]
  },
  {
   "cell_type": "code",
   "execution_count": 12,
   "id": "fe641c83-8852-4a93-8567-7eca899b6d94",
   "metadata": {},
   "outputs": [],
   "source": [
    "# Splitting data\n",
    "X_train, X_test, y_train, y_test = train_test_split(text_tf,data[\"Label\"],test_size=0.2,random_state=99)"
   ]
  },
  {
   "cell_type": "markdown",
   "id": "cbfc92f6-a591-4f99-a3cd-c34942f8eef7",
   "metadata": {
    "tags": []
   },
   "source": [
    "# Modelling"
   ]
  },
  {
   "cell_type": "markdown",
   "id": "7a1c3de1-f226-4ecc-8b8b-726761ed281a",
   "metadata": {
    "tags": []
   },
   "source": [
    "## Multinomial Naive Bayes"
   ]
  },
  {
   "cell_type": "code",
   "execution_count": 13,
   "id": "54549a7b-3c17-49e9-8eff-b748eab7e791",
   "metadata": {},
   "outputs": [],
   "source": [
    "# Built the model\n",
    "model1=MultinomialNB().fit(X_train, y_train)"
   ]
  },
  {
   "cell_type": "code",
   "execution_count": 14,
   "id": "cb4c8ad5-a884-4468-b1d9-09736b773ddc",
   "metadata": {},
   "outputs": [
    {
     "data": {
      "text/plain": [
       "{'alpha': 1.0, 'class_prior': None, 'fit_prior': True}"
      ]
     },
     "execution_count": 14,
     "metadata": {},
     "output_type": "execute_result"
    }
   ],
   "source": [
    "# Get Parameter Model\n",
    "model1.get_params()"
   ]
  },
  {
   "cell_type": "code",
   "execution_count": 15,
   "id": "1d6c251f-edd3-4815-97b5-c6c3566af917",
   "metadata": {},
   "outputs": [],
   "source": [
    "# Predict the model\n",
    "predicted=model1.predict(X_test)"
   ]
  },
  {
   "cell_type": "code",
   "execution_count": 16,
   "id": "61cc79fb-818f-4b3e-b7a6-9c363c8a6c3e",
   "metadata": {},
   "outputs": [
    {
     "data": {
      "text/plain": [
       "array([0, 1, 1, 1, 1, 1, 1, 0, 1, 0, 1, 1, 1, 0, 0, 1, 1, 1, 0, 1, 1, 1,\n",
       "       1, 0, 0, 0, 1, 1, 1, 0, 1, 1, 1, 1, 1, 0, 1, 0, 0, 1, 1, 1, 1, 0,\n",
       "       1, 1, 1, 1, 1, 0, 1, 0, 0, 1, 1, 1, 1, 0, 1, 0, 1, 1, 1, 1, 0, 1,\n",
       "       0, 1, 1, 0, 1, 0, 1, 0, 1, 0, 0, 1, 1, 1, 1, 0, 1, 0, 1, 0, 1, 1,\n",
       "       1, 0, 1, 1, 0, 1, 1, 1, 1, 1, 1, 1, 1, 1, 1, 1, 1, 1, 1, 1, 0, 1,\n",
       "       1, 0, 1, 1, 0, 1, 1, 1, 1, 1, 0, 1, 0, 0, 1, 0, 1, 1, 0, 0, 1, 1,\n",
       "       1, 1, 0, 1, 1, 0, 1, 0, 0, 1, 1, 1, 0, 1, 1, 0, 0, 0, 0, 1, 0, 1,\n",
       "       1, 1, 1, 1, 1, 1, 1, 1, 1, 0, 1, 1, 1, 1, 0, 0, 1, 0, 0, 0, 0, 0,\n",
       "       0, 1, 1, 0, 1, 0, 1, 1, 0, 0, 1, 1, 1, 1, 1, 0, 1, 1, 1, 1, 0, 0,\n",
       "       0, 0, 1, 1, 0, 0, 1, 1, 0, 1, 1, 1, 1, 0, 0, 1, 0, 0, 1, 0, 1, 1,\n",
       "       1, 1, 1, 1, 0, 1, 0, 0, 1, 1, 1, 0, 1, 1, 1, 1, 1, 1, 0, 1, 0, 0,\n",
       "       1, 0, 1, 1, 1, 1, 0, 1, 1, 1, 1, 0, 0, 0, 0, 1, 0, 1, 1, 1, 0, 1,\n",
       "       0, 0, 1, 1, 0, 1, 0, 0, 0, 0, 1, 0, 1, 1, 0, 0, 1, 0, 1, 0, 1, 0,\n",
       "       1, 1, 1, 1, 1, 1, 1, 0, 0, 1, 0, 1, 0, 1, 0, 0, 0, 0, 0, 1, 0, 0,\n",
       "       1, 0, 1, 0, 1, 0, 0, 0, 1, 1, 0, 0, 1, 0, 0, 0, 0, 1, 0, 1, 1, 0,\n",
       "       0, 0, 0, 1, 0, 0, 1, 0, 0, 0, 1, 0, 1, 1, 0, 0, 0, 1, 1, 0, 1, 0,\n",
       "       1, 1, 0, 0, 0, 0, 1, 0, 0, 1, 0, 1, 0, 1, 0, 0, 1, 1, 0, 1, 0, 0,\n",
       "       1, 0, 1, 1, 1, 1, 1, 1, 1, 0, 1, 1, 0, 0, 0, 0, 0, 0, 0, 0, 0, 0,\n",
       "       1, 0, 1, 1, 0, 0, 0, 0, 1, 0, 1, 1, 1, 0, 1, 1, 1, 0, 1, 1, 0, 1,\n",
       "       1, 1, 1, 0, 1, 1, 0, 1, 1, 1, 1, 1, 1, 1, 0, 1, 0, 1, 1, 0, 1, 0,\n",
       "       0, 1, 1, 0, 0, 0, 1, 1, 0, 1, 1, 1, 1, 1, 1], dtype=int64)"
      ]
     },
     "execution_count": 16,
     "metadata": {},
     "output_type": "execute_result"
    }
   ],
   "source": [
    "# check value\n",
    "predicted"
   ]
  },
  {
   "cell_type": "code",
   "execution_count": 17,
   "id": "eedcccd9-2750-44c1-8135-3b1f6f44a43e",
   "metadata": {},
   "outputs": [
    {
     "name": "stdout",
     "output_type": "stream",
     "text": [
      "              precision    recall  f1-score   support\n",
      "\n",
      "           0       0.95      0.94      0.94       189\n",
      "           1       0.96      0.96      0.96       266\n",
      "\n",
      "    accuracy                           0.95       455\n",
      "   macro avg       0.95      0.95      0.95       455\n",
      "weighted avg       0.95      0.95      0.95       455\n",
      "\n"
     ]
    }
   ],
   "source": [
    "# Check Classification report\n",
    "print(classification_report(y_test,predicted))"
   ]
  },
  {
   "cell_type": "markdown",
   "id": "8943236e-61ec-4768-a3cf-00b9cad36b68",
   "metadata": {
    "tags": []
   },
   "source": [
    "## Random Forest"
   ]
  },
  {
   "cell_type": "code",
   "execution_count": 18,
   "id": "3372c441-669f-448c-8f34-6a76a844420e",
   "metadata": {},
   "outputs": [],
   "source": [
    "# Built the model\n",
    "model2=RandomForestClassifier().fit(X_train, y_train)"
   ]
  },
  {
   "cell_type": "code",
   "execution_count": 19,
   "id": "515f9e6c-22eb-4383-b3d7-11e6178828c4",
   "metadata": {},
   "outputs": [
    {
     "data": {
      "text/plain": [
       "{'bootstrap': True,\n",
       " 'ccp_alpha': 0.0,\n",
       " 'class_weight': None,\n",
       " 'criterion': 'gini',\n",
       " 'max_depth': None,\n",
       " 'max_features': 'sqrt',\n",
       " 'max_leaf_nodes': None,\n",
       " 'max_samples': None,\n",
       " 'min_impurity_decrease': 0.0,\n",
       " 'min_samples_leaf': 1,\n",
       " 'min_samples_split': 2,\n",
       " 'min_weight_fraction_leaf': 0.0,\n",
       " 'n_estimators': 100,\n",
       " 'n_jobs': None,\n",
       " 'oob_score': False,\n",
       " 'random_state': None,\n",
       " 'verbose': 0,\n",
       " 'warm_start': False}"
      ]
     },
     "execution_count": 19,
     "metadata": {},
     "output_type": "execute_result"
    }
   ],
   "source": [
    "# Get Parameter Model\n",
    "model2.get_params()"
   ]
  },
  {
   "cell_type": "code",
   "execution_count": 20,
   "id": "769f5f26-d016-479a-adc3-f96cbcaadb59",
   "metadata": {},
   "outputs": [],
   "source": [
    "# Predict the model\n",
    "predicted2=model2.predict(X_test)"
   ]
  },
  {
   "cell_type": "code",
   "execution_count": 21,
   "id": "b8bf62bb-d330-4294-a9dd-bae25fc5a900",
   "metadata": {},
   "outputs": [
    {
     "data": {
      "text/plain": [
       "array([0, 0, 1, 1, 1, 1, 1, 0, 1, 0, 1, 1, 1, 0, 0, 1, 1, 1, 0, 1, 1, 1,\n",
       "       1, 0, 0, 0, 1, 0, 1, 0, 1, 1, 1, 0, 1, 0, 0, 0, 0, 1, 1, 1, 1, 0,\n",
       "       1, 1, 1, 1, 1, 0, 1, 0, 0, 0, 1, 1, 1, 0, 0, 0, 1, 1, 1, 1, 0, 0,\n",
       "       0, 1, 1, 0, 1, 0, 1, 0, 0, 0, 0, 1, 1, 1, 1, 0, 0, 0, 1, 0, 1, 1,\n",
       "       1, 0, 1, 0, 0, 1, 1, 1, 0, 1, 1, 1, 1, 1, 1, 1, 1, 1, 0, 1, 0, 1,\n",
       "       1, 0, 1, 1, 0, 1, 1, 0, 1, 0, 0, 1, 0, 0, 1, 0, 1, 1, 0, 0, 1, 1,\n",
       "       1, 1, 0, 1, 1, 0, 1, 0, 0, 1, 0, 1, 0, 0, 1, 0, 0, 0, 0, 1, 0, 0,\n",
       "       1, 1, 1, 1, 1, 1, 0, 1, 1, 0, 1, 1, 0, 1, 0, 0, 1, 0, 0, 0, 0, 0,\n",
       "       0, 1, 1, 0, 1, 0, 1, 0, 1, 0, 1, 1, 1, 1, 1, 0, 1, 0, 1, 1, 0, 0,\n",
       "       0, 0, 1, 0, 0, 0, 0, 1, 0, 1, 1, 1, 1, 0, 0, 1, 0, 0, 1, 0, 1, 1,\n",
       "       0, 1, 1, 1, 0, 1, 0, 0, 0, 1, 1, 0, 1, 0, 1, 0, 1, 1, 0, 1, 0, 0,\n",
       "       1, 0, 1, 1, 1, 1, 0, 1, 1, 1, 1, 0, 0, 0, 0, 0, 0, 1, 1, 1, 0, 1,\n",
       "       0, 0, 1, 1, 0, 0, 0, 0, 0, 0, 0, 0, 1, 1, 0, 0, 1, 0, 1, 0, 1, 0,\n",
       "       1, 1, 1, 1, 1, 1, 1, 0, 0, 1, 0, 1, 0, 1, 0, 0, 0, 0, 0, 0, 0, 0,\n",
       "       1, 0, 1, 0, 1, 0, 0, 0, 1, 1, 0, 0, 1, 0, 0, 0, 0, 1, 0, 1, 1, 0,\n",
       "       0, 0, 0, 1, 0, 0, 1, 0, 0, 0, 0, 0, 1, 1, 0, 0, 0, 1, 1, 0, 1, 0,\n",
       "       1, 1, 0, 0, 0, 0, 1, 0, 0, 1, 0, 0, 0, 1, 0, 0, 1, 1, 0, 1, 0, 0,\n",
       "       1, 0, 1, 1, 1, 1, 1, 1, 1, 1, 0, 1, 0, 0, 0, 0, 0, 0, 0, 1, 0, 0,\n",
       "       1, 0, 1, 0, 0, 0, 0, 0, 1, 0, 1, 1, 1, 1, 1, 1, 1, 0, 1, 1, 0, 1,\n",
       "       1, 1, 1, 0, 1, 1, 0, 1, 0, 1, 1, 1, 1, 1, 0, 1, 0, 1, 1, 0, 1, 0,\n",
       "       0, 1, 1, 0, 0, 0, 0, 1, 0, 1, 0, 1, 0, 1, 1], dtype=int64)"
      ]
     },
     "execution_count": 21,
     "metadata": {},
     "output_type": "execute_result"
    }
   ],
   "source": [
    "# check value\n",
    "predicted2"
   ]
  },
  {
   "cell_type": "code",
   "execution_count": 22,
   "id": "bc977443-6c1e-42b9-a75b-5219ef314e4b",
   "metadata": {},
   "outputs": [
    {
     "name": "stdout",
     "output_type": "stream",
     "text": [
      "              precision    recall  f1-score   support\n",
      "\n",
      "           0       0.82      0.96      0.89       189\n",
      "           1       0.97      0.85      0.91       266\n",
      "\n",
      "    accuracy                           0.90       455\n",
      "   macro avg       0.89      0.91      0.90       455\n",
      "weighted avg       0.91      0.90      0.90       455\n",
      "\n"
     ]
    }
   ],
   "source": [
    "# Check Classification report\n",
    "print(classification_report(y_test,predicted2))"
   ]
  },
  {
   "cell_type": "markdown",
   "id": "ce7df0b5-3a7a-4d7f-9524-ae1eae7c48db",
   "metadata": {
    "tags": []
   },
   "source": [
    "## SVM"
   ]
  },
  {
   "cell_type": "code",
   "execution_count": 23,
   "id": "dde64043-1d62-487a-a449-16ee439bc436",
   "metadata": {},
   "outputs": [],
   "source": [
    "# Built the model\n",
    "model3=svm.SVC(kernel=\"linear\").fit(X_train, y_train)"
   ]
  },
  {
   "cell_type": "code",
   "execution_count": 24,
   "id": "3fc1e26f-c60a-4cdd-86e6-2f3c17a5d312",
   "metadata": {},
   "outputs": [
    {
     "data": {
      "text/plain": [
       "{'alpha': 1.0, 'class_prior': None, 'fit_prior': True}"
      ]
     },
     "execution_count": 24,
     "metadata": {},
     "output_type": "execute_result"
    }
   ],
   "source": [
    "# Get Parameter Model\n",
    "model1.get_params()"
   ]
  },
  {
   "cell_type": "code",
   "execution_count": 25,
   "id": "db53e3e4-db8b-45a4-90a7-e1efbeed45d1",
   "metadata": {},
   "outputs": [],
   "source": [
    "# Predict the model\n",
    "predicted3=model3.predict(X_test)"
   ]
  },
  {
   "cell_type": "code",
   "execution_count": 26,
   "id": "4ab940aa-908a-4dfb-b8c7-f2baf8d3166f",
   "metadata": {},
   "outputs": [
    {
     "data": {
      "text/plain": [
       "array([0, 1, 1, 1, 1, 1, 1, 0, 1, 0, 1, 1, 1, 0, 0, 1, 1, 1, 0, 1, 1, 1,\n",
       "       1, 0, 0, 0, 1, 1, 1, 0, 1, 1, 1, 1, 1, 0, 1, 0, 0, 1, 1, 1, 1, 0,\n",
       "       1, 1, 1, 1, 1, 0, 1, 0, 0, 1, 1, 1, 1, 0, 1, 0, 1, 1, 1, 1, 0, 0,\n",
       "       0, 1, 1, 0, 1, 0, 1, 0, 1, 0, 0, 1, 1, 1, 1, 0, 1, 0, 1, 0, 1, 1,\n",
       "       1, 0, 1, 1, 0, 1, 1, 1, 1, 1, 1, 1, 1, 1, 1, 1, 1, 1, 1, 1, 0, 1,\n",
       "       1, 0, 1, 1, 0, 1, 1, 1, 1, 0, 0, 1, 0, 0, 1, 0, 1, 1, 0, 0, 1, 1,\n",
       "       1, 1, 0, 1, 1, 0, 1, 0, 0, 1, 1, 1, 0, 1, 1, 0, 0, 0, 0, 1, 0, 1,\n",
       "       1, 1, 1, 1, 1, 1, 1, 1, 1, 0, 1, 1, 0, 1, 0, 0, 1, 0, 0, 0, 0, 0,\n",
       "       0, 1, 1, 0, 1, 0, 1, 1, 0, 0, 1, 1, 1, 1, 1, 0, 1, 1, 1, 1, 0, 0,\n",
       "       0, 0, 1, 1, 0, 0, 1, 1, 0, 1, 1, 1, 1, 0, 0, 1, 0, 0, 1, 0, 1, 1,\n",
       "       1, 1, 1, 1, 0, 1, 0, 0, 1, 1, 1, 0, 1, 1, 1, 1, 1, 1, 0, 1, 0, 0,\n",
       "       1, 0, 1, 1, 1, 1, 0, 1, 1, 1, 1, 0, 0, 0, 0, 1, 0, 1, 1, 1, 0, 1,\n",
       "       0, 0, 1, 1, 0, 1, 0, 0, 0, 0, 1, 0, 1, 1, 0, 0, 1, 0, 1, 0, 1, 0,\n",
       "       1, 1, 1, 1, 1, 1, 1, 0, 0, 1, 0, 1, 0, 1, 0, 0, 0, 0, 0, 1, 0, 0,\n",
       "       1, 0, 1, 0, 1, 0, 0, 0, 1, 1, 0, 0, 1, 0, 0, 0, 0, 1, 0, 1, 1, 0,\n",
       "       0, 0, 1, 1, 0, 0, 1, 0, 0, 0, 1, 0, 1, 1, 0, 0, 0, 1, 1, 0, 1, 0,\n",
       "       1, 1, 0, 0, 0, 0, 1, 0, 0, 1, 0, 1, 0, 1, 0, 0, 1, 1, 0, 1, 0, 0,\n",
       "       1, 0, 1, 1, 1, 1, 1, 1, 1, 0, 1, 1, 0, 0, 0, 0, 0, 0, 0, 0, 0, 0,\n",
       "       1, 0, 1, 1, 0, 1, 0, 0, 1, 0, 1, 1, 1, 1, 1, 1, 1, 0, 1, 1, 0, 1,\n",
       "       1, 1, 1, 0, 1, 1, 0, 1, 0, 1, 1, 1, 1, 1, 0, 1, 0, 1, 1, 0, 1, 0,\n",
       "       0, 1, 1, 0, 0, 0, 0, 1, 0, 1, 1, 1, 1, 1, 1], dtype=int64)"
      ]
     },
     "execution_count": 26,
     "metadata": {},
     "output_type": "execute_result"
    }
   ],
   "source": [
    "# check value\n",
    "predicted3"
   ]
  },
  {
   "cell_type": "code",
   "execution_count": 27,
   "id": "ae2c7f63-5d31-47b6-aaf9-aef902736d50",
   "metadata": {},
   "outputs": [
    {
     "name": "stdout",
     "output_type": "stream",
     "text": [
      "              precision    recall  f1-score   support\n",
      "\n",
      "           0       0.94      0.94      0.94       189\n",
      "           1       0.95      0.95      0.95       266\n",
      "\n",
      "    accuracy                           0.95       455\n",
      "   macro avg       0.95      0.95      0.95       455\n",
      "weighted avg       0.95      0.95      0.95       455\n",
      "\n"
     ]
    }
   ],
   "source": [
    "# Check Classification report\n",
    "print(classification_report(y_test,predicted3))"
   ]
  },
  {
   "cell_type": "markdown",
   "id": "17682f41-d0f8-45ea-b5f3-3f031e0ce482",
   "metadata": {
    "tags": []
   },
   "source": [
    "## MLP"
   ]
  },
  {
   "cell_type": "code",
   "execution_count": 28,
   "id": "b01ba40e-3b6b-4ac3-84a3-d83df38fe6d7",
   "metadata": {},
   "outputs": [
    {
     "data": {
      "text/plain": [
       "(1820, 2134)"
      ]
     },
     "execution_count": 28,
     "metadata": {},
     "output_type": "execute_result"
    }
   ],
   "source": [
    "# Check shape\n",
    "X_train.shape"
   ]
  },
  {
   "cell_type": "code",
   "execution_count": 29,
   "id": "627adac7-c908-4b94-92f7-16a728ddc6c1",
   "metadata": {},
   "outputs": [],
   "source": [
    "#Model MLP Klasifikasi Biner\n",
    "inputs=Input(shape=X_train.shape[1:])\n",
    "layers=Dense(25,activation='relu')(inputs)\n",
    "layers=Dense(25,activation='relu')(layers)\n",
    "output=Dense(1,activation='sigmoid')(layers)\n",
    "model4=Model(inputs=[inputs],outputs=[output])\n",
    "model4.compile(loss=\"binary_crossentropy\", optimizer=SGD(learning_rate=1e-2), \n",
    "              metrics=[\"accuracy\",Precision(),Recall()])"
   ]
  },
  {
   "cell_type": "code",
   "execution_count": 30,
   "id": "412d701e-eec9-4e66-b002-126c632aebfc",
   "metadata": {},
   "outputs": [
    {
     "name": "stdout",
     "output_type": "stream",
     "text": [
      "Model: \"model\"\n",
      "_________________________________________________________________\n",
      " Layer (type)                Output Shape              Param #   \n",
      "=================================================================\n",
      " input_1 (InputLayer)        [(None, 2134)]            0         \n",
      "                                                                 \n",
      " dense (Dense)               (None, 25)                53375     \n",
      "                                                                 \n",
      " dense_1 (Dense)             (None, 25)                650       \n",
      "                                                                 \n",
      " dense_2 (Dense)             (None, 1)                 26        \n",
      "                                                                 \n",
      "=================================================================\n",
      "Total params: 54,051\n",
      "Trainable params: 54,051\n",
      "Non-trainable params: 0\n",
      "_________________________________________________________________\n"
     ]
    }
   ],
   "source": [
    "# Model summary\n",
    "model4.summary()"
   ]
  },
  {
   "cell_type": "code",
   "execution_count": 31,
   "id": "14b62d3e-0b65-408d-bf54-57d2ab0d9055",
   "metadata": {},
   "outputs": [],
   "source": [
    "# Convert CSR to array\n",
    "X_trainc=X_train.toarray()\n",
    "X_testc=X_test.toarray()"
   ]
  },
  {
   "cell_type": "code",
   "execution_count": 32,
   "id": "4cdba384-b828-4707-a523-39486ebb56d2",
   "metadata": {
    "scrolled": true,
    "tags": []
   },
   "outputs": [
    {
     "name": "stdout",
     "output_type": "stream",
     "text": [
      "Epoch 1/100\n",
      "57/57 [==============================] - 1s 8ms/step - loss: 0.6909 - accuracy: 0.5643 - precision: 0.5781 - recall: 0.9194 - val_loss: 0.6871 - val_accuracy: 0.5846 - val_precision: 0.5846 - val_recall: 1.0000\n",
      "Epoch 2/100\n",
      "57/57 [==============================] - 0s 2ms/step - loss: 0.6849 - accuracy: 0.5797 - precision: 0.5797 - recall: 1.0000 - val_loss: 0.6818 - val_accuracy: 0.5846 - val_precision: 0.5846 - val_recall: 1.0000\n",
      "Epoch 3/100\n",
      "57/57 [==============================] - 0s 2ms/step - loss: 0.6806 - accuracy: 0.5797 - precision: 0.5797 - recall: 1.0000 - val_loss: 0.6780 - val_accuracy: 0.5846 - val_precision: 0.5846 - val_recall: 1.0000\n",
      "Epoch 4/100\n",
      "57/57 [==============================] - 0s 1ms/step - loss: 0.6774 - accuracy: 0.5797 - precision: 0.5797 - recall: 1.0000 - val_loss: 0.6750 - val_accuracy: 0.5846 - val_precision: 0.5846 - val_recall: 1.0000\n",
      "Epoch 5/100\n",
      "57/57 [==============================] - 0s 2ms/step - loss: 0.6747 - accuracy: 0.5797 - precision: 0.5797 - recall: 1.0000 - val_loss: 0.6724 - val_accuracy: 0.5846 - val_precision: 0.5846 - val_recall: 1.0000\n",
      "Epoch 6/100\n",
      "57/57 [==============================] - 0s 2ms/step - loss: 0.6725 - accuracy: 0.5797 - precision: 0.5797 - recall: 1.0000 - val_loss: 0.6702 - val_accuracy: 0.5846 - val_precision: 0.5846 - val_recall: 1.0000\n",
      "Epoch 7/100\n",
      "57/57 [==============================] - 0s 2ms/step - loss: 0.6704 - accuracy: 0.5797 - precision: 0.5797 - recall: 1.0000 - val_loss: 0.6679 - val_accuracy: 0.5846 - val_precision: 0.5846 - val_recall: 1.0000\n",
      "Epoch 8/100\n",
      "57/57 [==============================] - 0s 2ms/step - loss: 0.6682 - accuracy: 0.5797 - precision: 0.5797 - recall: 1.0000 - val_loss: 0.6657 - val_accuracy: 0.5846 - val_precision: 0.5846 - val_recall: 1.0000\n",
      "Epoch 9/100\n",
      "57/57 [==============================] - 0s 1ms/step - loss: 0.6661 - accuracy: 0.5797 - precision: 0.5797 - recall: 1.0000 - val_loss: 0.6633 - val_accuracy: 0.5846 - val_precision: 0.5846 - val_recall: 1.0000\n",
      "Epoch 10/100\n",
      "57/57 [==============================] - 0s 1ms/step - loss: 0.6638 - accuracy: 0.5797 - precision: 0.5797 - recall: 1.0000 - val_loss: 0.6609 - val_accuracy: 0.5846 - val_precision: 0.5846 - val_recall: 1.0000\n",
      "Epoch 11/100\n",
      "57/57 [==============================] - 0s 2ms/step - loss: 0.6614 - accuracy: 0.5797 - precision: 0.5797 - recall: 1.0000 - val_loss: 0.6582 - val_accuracy: 0.5846 - val_precision: 0.5846 - val_recall: 1.0000\n",
      "Epoch 12/100\n",
      "57/57 [==============================] - 0s 1ms/step - loss: 0.6588 - accuracy: 0.5797 - precision: 0.5797 - recall: 1.0000 - val_loss: 0.6553 - val_accuracy: 0.5846 - val_precision: 0.5846 - val_recall: 1.0000\n",
      "Epoch 13/100\n",
      "57/57 [==============================] - 0s 2ms/step - loss: 0.6559 - accuracy: 0.5797 - precision: 0.5797 - recall: 1.0000 - val_loss: 0.6522 - val_accuracy: 0.5846 - val_precision: 0.5846 - val_recall: 1.0000\n",
      "Epoch 14/100\n",
      "57/57 [==============================] - 0s 1ms/step - loss: 0.6529 - accuracy: 0.5797 - precision: 0.5797 - recall: 1.0000 - val_loss: 0.6488 - val_accuracy: 0.5846 - val_precision: 0.5846 - val_recall: 1.0000\n",
      "Epoch 15/100\n",
      "57/57 [==============================] - 0s 2ms/step - loss: 0.6495 - accuracy: 0.5797 - precision: 0.5797 - recall: 1.0000 - val_loss: 0.6451 - val_accuracy: 0.5846 - val_precision: 0.5846 - val_recall: 1.0000\n",
      "Epoch 16/100\n",
      "57/57 [==============================] - 0s 2ms/step - loss: 0.6457 - accuracy: 0.5797 - precision: 0.5797 - recall: 1.0000 - val_loss: 0.6410 - val_accuracy: 0.5846 - val_precision: 0.5846 - val_recall: 1.0000\n",
      "Epoch 17/100\n",
      "57/57 [==============================] - 0s 2ms/step - loss: 0.6417 - accuracy: 0.5797 - precision: 0.5797 - recall: 1.0000 - val_loss: 0.6365 - val_accuracy: 0.5846 - val_precision: 0.5846 - val_recall: 1.0000\n",
      "Epoch 18/100\n",
      "57/57 [==============================] - 0s 2ms/step - loss: 0.6372 - accuracy: 0.5797 - precision: 0.5797 - recall: 1.0000 - val_loss: 0.6316 - val_accuracy: 0.5846 - val_precision: 0.5846 - val_recall: 1.0000\n",
      "Epoch 19/100\n",
      "57/57 [==============================] - 0s 2ms/step - loss: 0.6325 - accuracy: 0.5797 - precision: 0.5797 - recall: 1.0000 - val_loss: 0.6264 - val_accuracy: 0.5846 - val_precision: 0.5846 - val_recall: 1.0000\n",
      "Epoch 20/100\n",
      "57/57 [==============================] - 0s 2ms/step - loss: 0.6272 - accuracy: 0.5797 - precision: 0.5797 - recall: 1.0000 - val_loss: 0.6206 - val_accuracy: 0.5846 - val_precision: 0.5846 - val_recall: 1.0000\n",
      "Epoch 21/100\n",
      "57/57 [==============================] - 0s 2ms/step - loss: 0.6215 - accuracy: 0.5797 - precision: 0.5797 - recall: 1.0000 - val_loss: 0.6143 - val_accuracy: 0.5846 - val_precision: 0.5846 - val_recall: 1.0000\n",
      "Epoch 22/100\n",
      "57/57 [==============================] - 0s 2ms/step - loss: 0.6152 - accuracy: 0.5808 - precision: 0.5803 - recall: 1.0000 - val_loss: 0.6076 - val_accuracy: 0.5846 - val_precision: 0.5846 - val_recall: 1.0000\n",
      "Epoch 23/100\n",
      "57/57 [==============================] - 0s 2ms/step - loss: 0.6085 - accuracy: 0.5841 - precision: 0.5823 - recall: 0.9991 - val_loss: 0.6003 - val_accuracy: 0.6022 - val_precision: 0.5955 - val_recall: 0.9962\n",
      "Epoch 24/100\n",
      "57/57 [==============================] - 0s 1ms/step - loss: 0.6013 - accuracy: 0.5967 - precision: 0.5899 - recall: 0.9981 - val_loss: 0.5926 - val_accuracy: 0.6132 - val_precision: 0.6023 - val_recall: 0.9962\n",
      "Epoch 25/100\n",
      "57/57 [==============================] - 0s 2ms/step - loss: 0.5937 - accuracy: 0.6137 - precision: 0.6006 - recall: 0.9962 - val_loss: 0.5845 - val_accuracy: 0.6462 - val_precision: 0.6235 - val_recall: 0.9962\n",
      "Epoch 26/100\n",
      "57/57 [==============================] - 0s 2ms/step - loss: 0.5856 - accuracy: 0.6533 - precision: 0.6266 - recall: 0.9943 - val_loss: 0.5758 - val_accuracy: 0.6615 - val_precision: 0.6340 - val_recall: 0.9962\n",
      "Epoch 27/100\n",
      "57/57 [==============================] - 0s 2ms/step - loss: 0.5769 - accuracy: 0.6769 - precision: 0.6430 - recall: 0.9953 - val_loss: 0.5666 - val_accuracy: 0.6813 - val_precision: 0.6486 - val_recall: 0.9925\n",
      "Epoch 28/100\n",
      "57/57 [==============================] - 0s 2ms/step - loss: 0.5677 - accuracy: 0.6923 - precision: 0.6544 - recall: 0.9943 - val_loss: 0.5570 - val_accuracy: 0.7407 - val_precision: 0.6947 - val_recall: 0.9925\n",
      "Epoch 29/100\n",
      "57/57 [==============================] - 0s 1ms/step - loss: 0.5578 - accuracy: 0.7286 - precision: 0.6842 - recall: 0.9877 - val_loss: 0.5465 - val_accuracy: 0.7714 - val_precision: 0.7225 - val_recall: 0.9887\n",
      "Epoch 30/100\n",
      "57/57 [==============================] - 0s 2ms/step - loss: 0.5475 - accuracy: 0.7791 - precision: 0.7307 - recall: 0.9801 - val_loss: 0.5352 - val_accuracy: 0.7648 - val_precision: 0.7154 - val_recall: 0.9925\n",
      "Epoch 31/100\n",
      "57/57 [==============================] - 0s 1ms/step - loss: 0.5368 - accuracy: 0.7901 - precision: 0.7419 - recall: 0.9782 - val_loss: 0.5240 - val_accuracy: 0.7868 - val_precision: 0.7354 - val_recall: 0.9925\n",
      "Epoch 32/100\n",
      "57/57 [==============================] - 0s 2ms/step - loss: 0.5257 - accuracy: 0.7984 - precision: 0.7515 - recall: 0.9744 - val_loss: 0.5120 - val_accuracy: 0.8066 - val_precision: 0.7572 - val_recall: 0.9850\n",
      "Epoch 33/100\n",
      "57/57 [==============================] - 0s 2ms/step - loss: 0.5142 - accuracy: 0.8258 - precision: 0.7838 - recall: 0.9659 - val_loss: 0.4999 - val_accuracy: 0.8198 - val_precision: 0.7722 - val_recall: 0.9812\n",
      "Epoch 34/100\n",
      "57/57 [==============================] - 0s 1ms/step - loss: 0.5024 - accuracy: 0.8374 - precision: 0.8019 - recall: 0.9555 - val_loss: 0.4879 - val_accuracy: 0.8220 - val_precision: 0.7745 - val_recall: 0.9812\n",
      "Epoch 35/100\n",
      "57/57 [==============================] - 0s 2ms/step - loss: 0.4906 - accuracy: 0.8418 - precision: 0.8061 - recall: 0.9573 - val_loss: 0.4751 - val_accuracy: 0.8659 - val_precision: 0.8233 - val_recall: 0.9812\n",
      "Epoch 36/100\n",
      "57/57 [==============================] - 0s 2ms/step - loss: 0.4787 - accuracy: 0.8621 - precision: 0.8372 - recall: 0.9460 - val_loss: 0.4626 - val_accuracy: 0.8747 - val_precision: 0.8426 - val_recall: 0.9662\n",
      "Epoch 37/100\n",
      "57/57 [==============================] - 0s 2ms/step - loss: 0.4666 - accuracy: 0.8742 - precision: 0.8604 - recall: 0.9346 - val_loss: 0.4505 - val_accuracy: 0.8725 - val_precision: 0.8399 - val_recall: 0.9662\n",
      "Epoch 38/100\n",
      "57/57 [==============================] - 0s 2ms/step - loss: 0.4549 - accuracy: 0.8835 - precision: 0.8714 - recall: 0.9374 - val_loss: 0.4380 - val_accuracy: 0.8923 - val_precision: 0.8678 - val_recall: 0.9624\n",
      "Epoch 39/100\n",
      "57/57 [==============================] - 0s 2ms/step - loss: 0.4431 - accuracy: 0.8841 - precision: 0.8741 - recall: 0.9346 - val_loss: 0.4259 - val_accuracy: 0.8989 - val_precision: 0.8929 - val_recall: 0.9398\n",
      "Epoch 40/100\n",
      "57/57 [==============================] - 0s 2ms/step - loss: 0.4318 - accuracy: 0.8874 - precision: 0.8899 - recall: 0.9194 - val_loss: 0.4141 - val_accuracy: 0.9033 - val_precision: 0.8908 - val_recall: 0.9511\n",
      "Epoch 41/100\n",
      "57/57 [==============================] - 0s 1ms/step - loss: 0.4206 - accuracy: 0.8923 - precision: 0.8966 - recall: 0.9204 - val_loss: 0.4026 - val_accuracy: 0.9033 - val_precision: 0.9022 - val_recall: 0.9361\n",
      "Epoch 42/100\n",
      "57/57 [==============================] - 0s 1ms/step - loss: 0.4097 - accuracy: 0.8962 - precision: 0.9077 - recall: 0.9137 - val_loss: 0.3916 - val_accuracy: 0.9011 - val_precision: 0.8989 - val_recall: 0.9361\n",
      "Epoch 43/100\n",
      "57/57 [==============================] - 0s 2ms/step - loss: 0.3992 - accuracy: 0.9005 - precision: 0.9084 - recall: 0.9213 - val_loss: 0.3808 - val_accuracy: 0.9209 - val_precision: 0.9323 - val_recall: 0.9323\n",
      "Epoch 44/100\n",
      "57/57 [==============================] - 0s 2ms/step - loss: 0.3893 - accuracy: 0.9005 - precision: 0.9210 - recall: 0.9062 - val_loss: 0.3705 - val_accuracy: 0.9187 - val_precision: 0.9288 - val_recall: 0.9323\n",
      "Epoch 45/100\n",
      "57/57 [==============================] - 0s 1ms/step - loss: 0.3797 - accuracy: 0.9044 - precision: 0.9289 - recall: 0.9043 - val_loss: 0.3609 - val_accuracy: 0.9187 - val_precision: 0.9288 - val_recall: 0.9323\n",
      "Epoch 46/100\n",
      "57/57 [==============================] - 0s 1ms/step - loss: 0.3704 - accuracy: 0.8995 - precision: 0.9208 - recall: 0.9043 - val_loss: 0.3513 - val_accuracy: 0.9253 - val_precision: 0.9462 - val_recall: 0.9248\n",
      "Epoch 47/100\n",
      "57/57 [==============================] - 0s 1ms/step - loss: 0.3615 - accuracy: 0.9093 - precision: 0.9363 - recall: 0.9052 - val_loss: 0.3423 - val_accuracy: 0.9297 - val_precision: 0.9535 - val_recall: 0.9248\n",
      "Epoch 48/100\n",
      "57/57 [==============================] - 0s 2ms/step - loss: 0.3529 - accuracy: 0.9088 - precision: 0.9423 - recall: 0.8976 - val_loss: 0.3344 - val_accuracy: 0.9231 - val_precision: 0.9262 - val_recall: 0.9436\n",
      "Epoch 49/100\n",
      "57/57 [==============================] - 0s 2ms/step - loss: 0.3447 - accuracy: 0.9104 - precision: 0.9339 - recall: 0.9100 - val_loss: 0.3256 - val_accuracy: 0.9275 - val_precision: 0.9498 - val_recall: 0.9248\n",
      "Epoch 50/100\n",
      "57/57 [==============================] - 0s 2ms/step - loss: 0.3375 - accuracy: 0.9159 - precision: 0.9492 - recall: 0.9033 - val_loss: 0.3178 - val_accuracy: 0.9209 - val_precision: 0.9356 - val_recall: 0.9286\n",
      "Epoch 51/100\n",
      "57/57 [==============================] - 0s 2ms/step - loss: 0.3297 - accuracy: 0.9154 - precision: 0.9395 - recall: 0.9128 - val_loss: 0.3104 - val_accuracy: 0.9297 - val_precision: 0.9535 - val_recall: 0.9248\n",
      "Epoch 52/100\n",
      "57/57 [==============================] - 0s 2ms/step - loss: 0.3227 - accuracy: 0.9165 - precision: 0.9538 - recall: 0.8995 - val_loss: 0.3040 - val_accuracy: 0.9275 - val_precision: 0.9331 - val_recall: 0.9436\n",
      "Epoch 53/100\n",
      "57/57 [==============================] - 0s 2ms/step - loss: 0.3156 - accuracy: 0.9209 - precision: 0.9418 - recall: 0.9204 - val_loss: 0.2968 - val_accuracy: 0.9319 - val_precision: 0.9644 - val_recall: 0.9173\n",
      "Epoch 54/100\n",
      "57/57 [==============================] - 0s 2ms/step - loss: 0.3094 - accuracy: 0.9192 - precision: 0.9522 - recall: 0.9062 - val_loss: 0.2903 - val_accuracy: 0.9319 - val_precision: 0.9608 - val_recall: 0.9211\n",
      "Epoch 55/100\n",
      "57/57 [==============================] - 0s 2ms/step - loss: 0.3034 - accuracy: 0.9253 - precision: 0.9581 - recall: 0.9109 - val_loss: 0.2843 - val_accuracy: 0.9319 - val_precision: 0.9434 - val_recall: 0.9398\n",
      "Epoch 56/100\n",
      "57/57 [==============================] - 0s 1ms/step - loss: 0.2975 - accuracy: 0.9253 - precision: 0.9509 - recall: 0.9185 - val_loss: 0.2784 - val_accuracy: 0.9341 - val_precision: 0.9574 - val_recall: 0.9286\n",
      "Epoch 57/100\n",
      "57/57 [==============================] - 0s 2ms/step - loss: 0.2915 - accuracy: 0.9264 - precision: 0.9610 - recall: 0.9100 - val_loss: 0.2741 - val_accuracy: 0.9275 - val_precision: 0.9299 - val_recall: 0.9474\n",
      "Epoch 58/100\n",
      "57/57 [==============================] - 0s 2ms/step - loss: 0.2866 - accuracy: 0.9269 - precision: 0.9502 - recall: 0.9223 - val_loss: 0.2677 - val_accuracy: 0.9363 - val_precision: 0.9540 - val_recall: 0.9361\n",
      "Epoch 59/100\n",
      "57/57 [==============================] - 0s 2ms/step - loss: 0.2811 - accuracy: 0.9297 - precision: 0.9585 - recall: 0.9185 - val_loss: 0.2627 - val_accuracy: 0.9385 - val_precision: 0.9577 - val_recall: 0.9361\n",
      "Epoch 60/100\n",
      "57/57 [==============================] - 0s 1ms/step - loss: 0.2762 - accuracy: 0.9302 - precision: 0.9558 - recall: 0.9223 - val_loss: 0.2580 - val_accuracy: 0.9319 - val_precision: 0.9468 - val_recall: 0.9361\n",
      "Epoch 61/100\n",
      "57/57 [==============================] - 0s 2ms/step - loss: 0.2714 - accuracy: 0.9319 - precision: 0.9577 - recall: 0.9232 - val_loss: 0.2534 - val_accuracy: 0.9363 - val_precision: 0.9540 - val_recall: 0.9361\n",
      "Epoch 62/100\n",
      "57/57 [==============================] - 0s 2ms/step - loss: 0.2668 - accuracy: 0.9319 - precision: 0.9550 - recall: 0.9261 - val_loss: 0.2492 - val_accuracy: 0.9363 - val_precision: 0.9472 - val_recall: 0.9436\n",
      "Epoch 63/100\n",
      "57/57 [==============================] - 0s 2ms/step - loss: 0.2624 - accuracy: 0.9357 - precision: 0.9607 - recall: 0.9270 - val_loss: 0.2450 - val_accuracy: 0.9385 - val_precision: 0.9577 - val_recall: 0.9361\n",
      "Epoch 64/100\n",
      "57/57 [==============================] - 0s 2ms/step - loss: 0.2579 - accuracy: 0.9346 - precision: 0.9634 - recall: 0.9223 - val_loss: 0.2421 - val_accuracy: 0.9385 - val_precision: 0.9375 - val_recall: 0.9586\n",
      "Epoch 65/100\n",
      "57/57 [==============================] - 0s 2ms/step - loss: 0.2541 - accuracy: 0.9324 - precision: 0.9551 - recall: 0.9270 - val_loss: 0.2382 - val_accuracy: 0.9363 - val_precision: 0.9373 - val_recall: 0.9549\n",
      "Epoch 66/100\n",
      "57/57 [==============================] - 0s 2ms/step - loss: 0.2499 - accuracy: 0.9352 - precision: 0.9562 - recall: 0.9308 - val_loss: 0.2338 - val_accuracy: 0.9385 - val_precision: 0.9577 - val_recall: 0.9361\n",
      "Epoch 67/100\n",
      "57/57 [==============================] - 0s 1ms/step - loss: 0.2459 - accuracy: 0.9319 - precision: 0.9524 - recall: 0.9289 - val_loss: 0.2309 - val_accuracy: 0.9429 - val_precision: 0.9688 - val_recall: 0.9323\n",
      "Epoch 68/100\n",
      "57/57 [==============================] - 0s 1ms/step - loss: 0.2427 - accuracy: 0.9379 - precision: 0.9627 - recall: 0.9289 - val_loss: 0.2272 - val_accuracy: 0.9385 - val_precision: 0.9542 - val_recall: 0.9398\n",
      "Epoch 69/100\n",
      "57/57 [==============================] - 0s 1ms/step - loss: 0.2389 - accuracy: 0.9390 - precision: 0.9609 - recall: 0.9327 - val_loss: 0.2242 - val_accuracy: 0.9429 - val_precision: 0.9511 - val_recall: 0.9511\n",
      "Epoch 70/100\n",
      "57/57 [==============================] - 0s 1ms/step - loss: 0.2355 - accuracy: 0.9374 - precision: 0.9581 - recall: 0.9327 - val_loss: 0.2212 - val_accuracy: 0.9385 - val_precision: 0.9542 - val_recall: 0.9398\n",
      "Epoch 71/100\n",
      "57/57 [==============================] - 0s 2ms/step - loss: 0.2322 - accuracy: 0.9363 - precision: 0.9598 - recall: 0.9289 - val_loss: 0.2186 - val_accuracy: 0.9429 - val_precision: 0.9511 - val_recall: 0.9511\n",
      "Epoch 72/100\n",
      "57/57 [==============================] - 0s 2ms/step - loss: 0.2283 - accuracy: 0.9385 - precision: 0.9582 - recall: 0.9346 - val_loss: 0.2158 - val_accuracy: 0.9429 - val_precision: 0.9511 - val_recall: 0.9511\n",
      "Epoch 73/100\n",
      "57/57 [==============================] - 0s 2ms/step - loss: 0.2251 - accuracy: 0.9423 - precision: 0.9621 - recall: 0.9374 - val_loss: 0.2132 - val_accuracy: 0.9429 - val_precision: 0.9615 - val_recall: 0.9398\n",
      "Epoch 74/100\n",
      "57/57 [==============================] - 0s 2ms/step - loss: 0.2222 - accuracy: 0.9434 - precision: 0.9648 - recall: 0.9365 - val_loss: 0.2108 - val_accuracy: 0.9429 - val_precision: 0.9511 - val_recall: 0.9511\n",
      "Epoch 75/100\n",
      "57/57 [==============================] - 0s 1ms/step - loss: 0.2193 - accuracy: 0.9440 - precision: 0.9631 - recall: 0.9393 - val_loss: 0.2084 - val_accuracy: 0.9429 - val_precision: 0.9511 - val_recall: 0.9511\n",
      "Epoch 76/100\n",
      "57/57 [==============================] - 0s 2ms/step - loss: 0.2161 - accuracy: 0.9434 - precision: 0.9648 - recall: 0.9365 - val_loss: 0.2072 - val_accuracy: 0.9473 - val_precision: 0.9416 - val_recall: 0.9699\n",
      "Epoch 77/100\n",
      "57/57 [==============================] - 0s 2ms/step - loss: 0.2135 - accuracy: 0.9456 - precision: 0.9623 - recall: 0.9431 - val_loss: 0.2040 - val_accuracy: 0.9451 - val_precision: 0.9617 - val_recall: 0.9436\n",
      "Epoch 78/100\n",
      "57/57 [==============================] - 0s 2ms/step - loss: 0.2105 - accuracy: 0.9451 - precision: 0.9631 - recall: 0.9412 - val_loss: 0.2024 - val_accuracy: 0.9495 - val_precision: 0.9691 - val_recall: 0.9436\n",
      "Epoch 79/100\n",
      "57/57 [==============================] - 0s 2ms/step - loss: 0.2080 - accuracy: 0.9445 - precision: 0.9649 - recall: 0.9384 - val_loss: 0.1998 - val_accuracy: 0.9473 - val_precision: 0.9583 - val_recall: 0.9511\n",
      "Epoch 80/100\n",
      "57/57 [==============================] - 0s 1ms/step - loss: 0.2050 - accuracy: 0.9451 - precision: 0.9640 - recall: 0.9403 - val_loss: 0.1979 - val_accuracy: 0.9473 - val_precision: 0.9618 - val_recall: 0.9474\n",
      "Epoch 81/100\n",
      "57/57 [==============================] - 0s 2ms/step - loss: 0.2026 - accuracy: 0.9478 - precision: 0.9660 - recall: 0.9431 - val_loss: 0.1960 - val_accuracy: 0.9495 - val_precision: 0.9620 - val_recall: 0.9511\n",
      "Epoch 82/100\n",
      "57/57 [==============================] - 0s 2ms/step - loss: 0.1997 - accuracy: 0.9451 - precision: 0.9631 - recall: 0.9412 - val_loss: 0.1944 - val_accuracy: 0.9495 - val_precision: 0.9655 - val_recall: 0.9474\n",
      "Epoch 83/100\n",
      "57/57 [==============================] - 0s 2ms/step - loss: 0.1972 - accuracy: 0.9495 - precision: 0.9670 - recall: 0.9450 - val_loss: 0.1925 - val_accuracy: 0.9538 - val_precision: 0.9623 - val_recall: 0.9586\n",
      "Epoch 84/100\n",
      "57/57 [==============================] - 0s 2ms/step - loss: 0.1948 - accuracy: 0.9489 - precision: 0.9661 - recall: 0.9450 - val_loss: 0.1911 - val_accuracy: 0.9516 - val_precision: 0.9519 - val_recall: 0.9662\n",
      "Epoch 85/100\n",
      "57/57 [==============================] - 0s 2ms/step - loss: 0.1928 - accuracy: 0.9500 - precision: 0.9680 - recall: 0.9450 - val_loss: 0.1893 - val_accuracy: 0.9538 - val_precision: 0.9623 - val_recall: 0.9586\n",
      "Epoch 86/100\n",
      "57/57 [==============================] - 0s 2ms/step - loss: 0.1902 - accuracy: 0.9538 - precision: 0.9682 - recall: 0.9517 - val_loss: 0.1878 - val_accuracy: 0.9538 - val_precision: 0.9623 - val_recall: 0.9586\n",
      "Epoch 87/100\n",
      "57/57 [==============================] - 0s 2ms/step - loss: 0.1880 - accuracy: 0.9484 - precision: 0.9670 - recall: 0.9431 - val_loss: 0.1864 - val_accuracy: 0.9538 - val_precision: 0.9588 - val_recall: 0.9624\n",
      "Epoch 88/100\n",
      "57/57 [==============================] - 0s 1ms/step - loss: 0.1855 - accuracy: 0.9511 - precision: 0.9671 - recall: 0.9479 - val_loss: 0.1851 - val_accuracy: 0.9560 - val_precision: 0.9556 - val_recall: 0.9699\n",
      "Epoch 89/100\n",
      "57/57 [==============================] - 0s 2ms/step - loss: 0.1833 - accuracy: 0.9555 - precision: 0.9701 - recall: 0.9526 - val_loss: 0.1838 - val_accuracy: 0.9560 - val_precision: 0.9556 - val_recall: 0.9699\n",
      "Epoch 90/100\n",
      "57/57 [==============================] - 0s 2ms/step - loss: 0.1814 - accuracy: 0.9549 - precision: 0.9700 - recall: 0.9517 - val_loss: 0.1823 - val_accuracy: 0.9538 - val_precision: 0.9588 - val_recall: 0.9624\n",
      "Epoch 91/100\n",
      "57/57 [==============================] - 0s 1ms/step - loss: 0.1785 - accuracy: 0.9544 - precision: 0.9700 - recall: 0.9507 - val_loss: 0.1814 - val_accuracy: 0.9538 - val_precision: 0.9520 - val_recall: 0.9699\n",
      "Epoch 92/100\n",
      "57/57 [==============================] - 0s 2ms/step - loss: 0.1767 - accuracy: 0.9560 - precision: 0.9692 - recall: 0.9545 - val_loss: 0.1809 - val_accuracy: 0.9495 - val_precision: 0.9691 - val_recall: 0.9436\n",
      "Epoch 93/100\n",
      "57/57 [==============================] - 0s 2ms/step - loss: 0.1751 - accuracy: 0.9549 - precision: 0.9719 - recall: 0.9498 - val_loss: 0.1787 - val_accuracy: 0.9560 - val_precision: 0.9590 - val_recall: 0.9662\n",
      "Epoch 94/100\n",
      "57/57 [==============================] - 0s 2ms/step - loss: 0.1724 - accuracy: 0.9566 - precision: 0.9729 - recall: 0.9517 - val_loss: 0.1782 - val_accuracy: 0.9516 - val_precision: 0.9692 - val_recall: 0.9474\n",
      "Epoch 95/100\n",
      "57/57 [==============================] - 0s 2ms/step - loss: 0.1707 - accuracy: 0.9577 - precision: 0.9748 - recall: 0.9517 - val_loss: 0.1772 - val_accuracy: 0.9538 - val_precision: 0.9520 - val_recall: 0.9699\n",
      "Epoch 96/100\n",
      "57/57 [==============================] - 0s 2ms/step - loss: 0.1690 - accuracy: 0.9588 - precision: 0.9721 - recall: 0.9564 - val_loss: 0.1755 - val_accuracy: 0.9604 - val_precision: 0.9697 - val_recall: 0.9624\n",
      "Epoch 97/100\n",
      "57/57 [==============================] - 0s 2ms/step - loss: 0.1669 - accuracy: 0.9582 - precision: 0.9720 - recall: 0.9555 - val_loss: 0.1746 - val_accuracy: 0.9604 - val_precision: 0.9697 - val_recall: 0.9624\n",
      "Epoch 98/100\n",
      "57/57 [==============================] - 0s 1ms/step - loss: 0.1645 - accuracy: 0.9604 - precision: 0.9749 - recall: 0.9564 - val_loss: 0.1736 - val_accuracy: 0.9538 - val_precision: 0.9588 - val_recall: 0.9624\n",
      "Epoch 99/100\n",
      "57/57 [==============================] - 0s 2ms/step - loss: 0.1625 - accuracy: 0.9593 - precision: 0.9721 - recall: 0.9573 - val_loss: 0.1741 - val_accuracy: 0.9495 - val_precision: 0.9691 - val_recall: 0.9436\n",
      "Epoch 100/100\n",
      "57/57 [==============================] - 0s 1ms/step - loss: 0.1609 - accuracy: 0.9588 - precision: 0.9748 - recall: 0.9536 - val_loss: 0.1717 - val_accuracy: 0.9604 - val_precision: 0.9697 - val_recall: 0.9624\n"
     ]
    }
   ],
   "source": [
    "# Train the model\n",
    "history2=model4.fit(X_trainc,y_train,epochs=100,validation_data=(X_testc,y_test))"
   ]
  },
  {
   "cell_type": "code",
   "execution_count": 33,
   "id": "3fce567e-76ee-4e3f-957d-2786ddcecb16",
   "metadata": {},
   "outputs": [
    {
     "name": "stdout",
     "output_type": "stream",
     "text": [
      "15/15 [==============================] - 0s 928us/step - loss: 0.1717 - accuracy: 0.9604 - precision: 0.9697 - recall: 0.9624\n",
      "loss :  0.17174914479255676\n",
      "accuracy :  0.9604395627975464\n",
      "precision :  0.9696969985961914\n",
      "recall :  0.9624060392379761\n",
      "\n"
     ]
    }
   ],
   "source": [
    "# Evaluate the model\n",
    "test2_eval=model4.evaluate(X_testc, y_test)\n",
    "for name, value in zip(model4.metrics_names, test2_eval):\n",
    "  print(name, ': ', value)\n",
    "print()"
   ]
  },
  {
   "cell_type": "code",
   "execution_count": 34,
   "id": "47506115-08bc-4402-b1ef-b8a8116968f2",
   "metadata": {},
   "outputs": [],
   "source": [
    "# Predict the model\n",
    "Y_predc=model4.predict(X_testc)"
   ]
  },
  {
   "cell_type": "code",
   "execution_count": 35,
   "id": "5a2107c6-6149-4ac4-9984-cfa9ee10acda",
   "metadata": {},
   "outputs": [],
   "source": [
    "# Convert into binary\n",
    "y_predc=np.zeros(Y_predc.shape)\n",
    "y_predc[Y_predc>0.5]=1\n",
    "y_predc=np.array(y_predc)"
   ]
  },
  {
   "cell_type": "code",
   "execution_count": 36,
   "id": "a82f6015-61c2-405b-ad2d-13cdd0a77c91",
   "metadata": {},
   "outputs": [
    {
     "name": "stdout",
     "output_type": "stream",
     "text": [
      "              precision    recall  f1-score   support\n",
      "\n",
      "           0       0.95      0.96      0.95       189\n",
      "           1       0.97      0.96      0.97       266\n",
      "\n",
      "    accuracy                           0.96       455\n",
      "   macro avg       0.96      0.96      0.96       455\n",
      "weighted avg       0.96      0.96      0.96       455\n",
      "\n"
     ]
    }
   ],
   "source": [
    "# Classification Report MLP\n",
    "print(classification_report(y_test,y_predc))"
   ]
  },
  {
   "cell_type": "markdown",
   "id": "f23b8c62-a385-4c58-bb96-7d0f8ceddd25",
   "metadata": {
    "tags": []
   },
   "source": [
    "# Model Terbaik"
   ]
  },
  {
   "cell_type": "code",
   "execution_count": 37,
   "id": "1c63047f-946e-4a4c-abd5-8577726a16bb",
   "metadata": {},
   "outputs": [],
   "source": [
    "#save model\n",
    "model4.save(\"MLP Classifier.h5\")"
   ]
  }
 ],
 "metadata": {
  "kernelspec": {
   "display_name": "Python 3 (ipykernel)",
   "language": "python",
   "name": "python3"
  },
  "language_info": {
   "codemirror_mode": {
    "name": "ipython",
    "version": 3
   },
   "file_extension": ".py",
   "mimetype": "text/x-python",
   "name": "python",
   "nbconvert_exporter": "python",
   "pygments_lexer": "ipython3",
   "version": "3.9.10"
  }
 },
 "nbformat": 4,
 "nbformat_minor": 5
}
